{
 "cells": [
  {
   "cell_type": "code",
   "execution_count": 1,
   "metadata": {},
   "outputs": [
    {
     "name": "stderr",
     "output_type": "stream",
     "text": [
      "/Users/Wolf-Pack/anaconda2/lib/python2.7/site-packages/h5py/__init__.py:36: FutureWarning: Conversion of the second argument of issubdtype from `float` to `np.floating` is deprecated. In future, it will be treated as `np.float64 == np.dtype(float).type`.\n",
      "  from ._conv import register_converters as _register_converters\n",
      "Using TensorFlow backend.\n"
     ]
    }
   ],
   "source": [
    "import pandas as pd\n",
    "import numpy as np\n",
    "from keras import models\n",
    "from keras import layers\n",
    "from keras import optimizers"
   ]
  },
  {
   "cell_type": "code",
   "execution_count": null,
   "metadata": {},
   "outputs": [],
   "source": [
    "x_train = [[]]\n",
    "y_train = []\n",
    "\n",
    "x_test = [[]]\n",
    "y_test = []\n",
    "\n",
    "x_val = [[]]\n",
    "y_val = []\n",
    "\n",
    "train_split = 0.7     #fraction of total data used for training.\n",
    "train_val_split = 0.3 #fraction of train_data used for validation.\n",
    "\n",
    "def prepare_data(csv_filename):\n",
    "    df = pd.read_csv(csv_filename)\n",
    "    \n",
    "    num_train = int(len(df.iloc[:,0])*train_split)\n",
    "    \n",
    "    df_train = df.iloc[:num_train,:]\n",
    "    \n",
    "    df_test = df.iloc[num_train:,:]\n",
    "    \n",
    "    num_train = int(len(df_train.iloc[:,0]*(1-train_val_split)))\n",
    "    \n",
    "    x_train = df_train.iloc[:num_train,2:]\n",
    "    \n",
    "    x_val = df_train.iloc[num_train:,2:]\n",
    "    \n",
    "    y_train = df_train.iloc[:num_train,1]\n",
    "    \n",
    "    y_val = df_train.iloc[num_train:,1]\n",
    "    \n",
    "    x_test = df_test.iloc[:,2:]\n",
    "    \n",
    "    y_test = df_test.iloc[:,1]\n",
    "    \n",
    "    \n",
    "    \n",
    "    \n",
    "    \n",
    "    "
   ]
  }
 ],
 "metadata": {
  "kernelspec": {
   "display_name": "Python 2",
   "language": "python",
   "name": "python2"
  },
  "language_info": {
   "codemirror_mode": {
    "name": "ipython",
    "version": 2
   },
   "file_extension": ".py",
   "mimetype": "text/x-python",
   "name": "python",
   "nbconvert_exporter": "python",
   "pygments_lexer": "ipython2",
   "version": "2.7.14"
  }
 },
 "nbformat": 4,
 "nbformat_minor": 2
}
